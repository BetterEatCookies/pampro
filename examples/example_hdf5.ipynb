{
 "cells": [
  {
   "cell_type": "markdown",
   "metadata": {},
   "source": [
    "# HDF5 demo"
   ]
  },
  {
   "cell_type": "markdown",
   "metadata": {},
   "source": [
    "For this demo, we only need to load the modules for reading in data, and our new HDF5 operations."
   ]
  },
  {
   "cell_type": "code",
   "execution_count": 1,
   "metadata": {
    "collapsed": true
   },
   "outputs": [],
   "source": [
    "from pampro import data_loading, hdf5"
   ]
  },
  {
   "cell_type": "markdown",
   "metadata": {},
   "source": [
    "Firstly, we will read in a zipped up Axivity CWA file, and time how long it takes."
   ]
  },
  {
   "cell_type": "code",
   "execution_count": 2,
   "metadata": {
    "collapsed": false
   },
   "outputs": [
    {
     "name": "stdout",
     "output_type": "stream",
     "text": [
      "Wall time: 5min 23s\n"
     ]
    }
   ],
   "source": [
    "%time ts_original, header_original = data_loading.load(\"S:/Self/_data/14008_0000000005.zip\", \"Axivity_ZIP\")"
   ]
  },
  {
   "cell_type": "markdown",
   "metadata": {},
   "source": [
    "Ok, that took 5 minutes, 23 seconds to read in the data from the raw file. For reference, let's print out the time period the file covers, and some sample data from the X channel:"
   ]
  },
  {
   "cell_type": "code",
   "execution_count": 11,
   "metadata": {
    "collapsed": false
   },
   "outputs": [
    {
     "name": "stdout",
     "output_type": "stream",
     "text": [
      "(datetime.datetime(2016, 2, 6, 23, 5, 36), datetime.datetime(2016, 2, 14, 11, 52, 31, 200000))\n",
      "[ 0.203125  0.5       0.484375 ...,  0.28125   0.28125   0.      ] 63784801\n"
     ]
    }
   ],
   "source": [
    "print(ts_original.time_period)\n",
    "print(ts_original[\"X\"].data, len(ts_original[\"X\"].data))"
   ]
  },
  {
   "cell_type": "markdown",
   "metadata": {},
   "source": [
    "Now we use the HDF5 functions to save the Time_Series object to our new HDF5 format."
   ]
  },
  {
   "cell_type": "code",
   "execution_count": 4,
   "metadata": {
    "collapsed": false
   },
   "outputs": [
    {
     "name": "stdout",
     "output_type": "stream",
     "text": [
      "Wall time: 6min 27s\n"
     ]
    }
   ],
   "source": [
    "%time hdf5.save(ts_original, \"S:/Self/_data/14008_0000000005.hdf5\")"
   ]
  },
  {
   "cell_type": "markdown",
   "metadata": {},
   "source": [
    "Saving the file took 6 minutes, 27 seconds. Now it is saved, we can load the data, specifying \"HDF5\" as the filetype."
   ]
  },
  {
   "cell_type": "code",
   "execution_count": 5,
   "metadata": {
    "collapsed": false
   },
   "outputs": [
    {
     "name": "stdout",
     "output_type": "stream",
     "text": [
      "Wall time: 8.39 s\n"
     ]
    }
   ],
   "source": [
    "%time ts_new, header_new = data_loading.load(\"S:/Self/_data/14008_0000000005.hdf5\", \"HDF5\")"
   ]
  },
  {
   "cell_type": "markdown",
   "metadata": {},
   "source": [
    "The same data took only 8 seconds to load! Let's print out the time period and sample data again, to show we have the same data:"
   ]
  },
  {
   "cell_type": "code",
   "execution_count": 12,
   "metadata": {
    "collapsed": false
   },
   "outputs": [
    {
     "name": "stdout",
     "output_type": "stream",
     "text": [
      "(datetime.datetime(2016, 2, 6, 23, 5, 36), datetime.datetime(2016, 2, 14, 11, 52, 31, 200000))\n",
      "[ 0.203125  0.5       0.484375 ...,  0.28125   0.28125   0.      ] 63784801\n"
     ]
    }
   ],
   "source": [
    "print(ts_new.time_period)\n",
    "print(ts_new[\"X\"].data, len(ts_new[\"X\"].data))"
   ]
  },
  {
   "cell_type": "markdown",
   "metadata": {},
   "source": [
    "Same data, but it loads more than 5 minutes faster!"
   ]
  },
  {
   "cell_type": "code",
   "execution_count": null,
   "metadata": {
    "collapsed": true
   },
   "outputs": [],
   "source": []
  }
 ],
 "metadata": {
  "kernelspec": {
   "display_name": "Python 3",
   "language": "python",
   "name": "python3"
  },
  "language_info": {
   "codemirror_mode": {
    "name": "ipython",
    "version": 3
   },
   "file_extension": ".py",
   "mimetype": "text/x-python",
   "name": "python",
   "nbconvert_exporter": "python",
   "pygments_lexer": "ipython3",
   "version": "3.5.1"
  }
 },
 "nbformat": 4,
 "nbformat_minor": 0
}
