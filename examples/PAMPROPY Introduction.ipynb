{
 "metadata": {
  "name": "PAMPROPY Introduction"
 },
 "nbformat": 3,
 "nbformat_minor": 0,
 "worksheets": [
  {
   "cells": [
    {
     "cell_type": "heading",
     "level": 1,
     "metadata": {},
     "source": "PAMPROPY - Introduction."
    },
    {
     "cell_type": "code",
     "collapsed": false,
     "input": "import os\nimport numpy as np\nimport matplotlib.pyplot as plt\nfrom matplotlib.dates import DayLocator, HourLocator, DateFormatter, drange\nfrom datetime import datetime, date, time, timedelta\nfrom scipy import stats\nimport random\nimport copy\nimport time\n\nfrom pampropy import Time_Series, Channel, Annotation, channel_inference",
     "language": "python",
     "metadata": {},
     "outputs": []
    },
    {
     "cell_type": "raw",
     "metadata": {},
     "source": "First we create a blank time series object, and read in some raw data as new channels. We tell the load_channels function we want to load an Axivity binary file, and where to find it; it returns a list of channels that we can add to our time series object."
    },
    {
     "cell_type": "code",
     "collapsed": false,
     "input": "ts = Time_Series.Time_Series(\"Axivity\")\n\nchans = Channel.load_channels(os.path.join(os.path.dirname(__file__), '..', 'data/nomovement.cwa'), \"Axivity\")\nts.add_channels(chans)",
     "language": "python",
     "metadata": {},
     "outputs": []
    },
    {
     "cell_type": "raw",
     "metadata": {},
     "source": "Now that we've read the input channels in, we can start deriving new channels. First we get the vector magnitude of the X, Y, Z channels, then calculate pitch and roll."
    },
    {
     "cell_type": "code",
     "collapsed": false,
     "input": "vm = channel_inference.infer_vector_magnitude(chans[0], chans[1], chans[2])\nts.add_channel(vm)\n\nchans = channel_inference.infer_pitch_roll(chans[0], chans[1], chans[2])\nts.add_channels(chans)",
     "language": "python",
     "metadata": {},
     "outputs": []
    },
    {
     "cell_type": "raw",
     "metadata": {},
     "source": "We can calculate statistics about our time series by defining a statistics dictionary. We name the channels we want to know about, and which specific statistics we want to know about each one. This calculates the mean and standard deviation for the X,Y,Z and Vector magnitude channels."
    },
    {
     "cell_type": "code",
     "collapsed": false,
     "input": "stats = {\"X\":[\"mean\", \"std\"],\"Y\":[\"mean\", \"std\"],\"Z\":[\"mean\", \"std\"],\"Vector magnitude\":[\"mean\", \"std\", \"n\"]}#,\"Pitch\":[\"mean\", \"std\"],\"Roll\":[\"mean\", \"std\"]}\nsummary = ts.summary_statistics(stats)",
     "language": "python",
     "metadata": {},
     "outputs": []
    },
    {
     "cell_type": "raw",
     "metadata": {},
     "source": "We can use the same statistics dictionary to request piecewise statistics of the channels, broken down into any time window we like by specifying a timedelta object. Each statistic becomes a channel itself, which we can add to another time series object, and write to a file."
    },
    {
     "cell_type": "code",
     "collapsed": false,
     "input": "ts_output = Time_Series.Time_Series(\"Output\")\nsimplified = ts.piecewise_statistics(timedelta(minutes=1), stats)\n\nts_output.add_channels(simplified)\nts_output.write_channels_to_file(os.path.join(os.path.dirname(__file__), '..', 'data/axivity_summary.csv'))",
     "language": "python",
     "metadata": {},
     "outputs": []
    },
    {
     "cell_type": "raw",
     "metadata": {},
     "source": "Finally, we can plot an arrangement of the time series channels."
    },
    {
     "cell_type": "code",
     "collapsed": false,
     "input": "%matplotlib inline\n\nts_output.draw_separate()",
     "language": "python",
     "metadata": {},
     "outputs": []
    }
   ],
   "metadata": {}
  }
 ]
}